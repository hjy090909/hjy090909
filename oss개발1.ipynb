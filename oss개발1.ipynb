{
  "nbformat": 4,
  "nbformat_minor": 0,
  "metadata": {
    "colab": {
      "provenance": [],
      "authorship_tag": "ABX9TyOOZsEOtes8YEElnbazjTl7",
      "include_colab_link": true
    },
    "kernelspec": {
      "name": "python3",
      "display_name": "Python 3"
    },
    "language_info": {
      "name": "python"
    }
  },
  "cells": [
    {
      "cell_type": "markdown",
      "metadata": {
        "id": "view-in-github",
        "colab_type": "text"
      },
      "source": [
        "<a href=\"https://colab.research.google.com/github/hjy090909/hjy090909/blob/main/oss%EA%B0%9C%EB%B0%9C1.ipynb\" target=\"_parent\"><img src=\"https://colab.research.google.com/assets/colab-badge.svg\" alt=\"Open In Colab\"/></a>"
      ]
    },
    {
      "cell_type": "code",
      "execution_count": 11,
      "metadata": {
        "id": "lam7Hl3sx8T5"
      },
      "outputs": [],
      "source": []
    },
    {
      "cell_type": "markdown",
      "source": [
        "# 삼각형 판단하기\n",
        "본 수업에서는 **삼각형의 세 변의 길이**를 받아서 어떠한 삼각형인지를 알려주는 프로그램을 개발합니다.\n",
        "$a = b = c$ 일때 정삼각형 🔺\n",
        "\n"
      ],
      "metadata": {
        "id": "Dac0seg-x_Er"
      }
    },
    {
      "cell_type": "code",
      "source": [
        "a = 100  # @param {type: \"number\"}\n",
        "b = 100  # @param {type: \"number\"}\n",
        "c = 100  # @param {type: \"number\"}\n",
        "date = '2010-11-05'  # @param {type: \"date\"}"
      ],
      "metadata": {
        "id": "CEPo4mQv1KW_"
      },
      "execution_count": 12,
      "outputs": []
    },
    {
      "cell_type": "code",
      "source": [
        "\n",
        "if a == b == c:\n",
        " print(\"정삼각형\")\n",
        "else:\n",
        " print(\"정삼각형 아님\")\n"
      ],
      "metadata": {
        "colab": {
          "base_uri": "https://localhost:8080/"
        },
        "id": "SZHaKkt_ym0i",
        "outputId": "a739eebb-9afa-4c45-dfe5-b3dba4f6e1bc"
      },
      "execution_count": 13,
      "outputs": [
        {
          "output_type": "stream",
          "name": "stdout",
          "text": [
            "정삼각형\n"
          ]
        }
      ]
    },
    {
      "cell_type": "code",
      "source": [],
      "metadata": {
        "id": "7rKBuavK2IXv"
      },
      "execution_count": null,
      "outputs": []
    }
  ]
}