{
  "nbformat": 4,
  "nbformat_minor": 0,
  "metadata": {
    "colab": {
      "provenance": [],
      "authorship_tag": "ABX9TyMrhwZdNnpFJNMr/che4GX2",
      "include_colab_link": true
    },
    "kernelspec": {
      "name": "python3",
      "display_name": "Python 3"
    },
    "language_info": {
      "name": "python"
    }
  },
  "cells": [
    {
      "cell_type": "markdown",
      "metadata": {
        "id": "view-in-github",
        "colab_type": "text"
      },
      "source": [
        "<a href=\"https://colab.research.google.com/github/hjy090909/hjy090909/blob/main/oss%EC%88%98%EC%97%85_1_2.ipynb\" target=\"_parent\"><img src=\"https://colab.research.google.com/assets/colab-badge.svg\" alt=\"Open In Colab\"/></a>"
      ]
    },
    {
      "cell_type": "code",
      "execution_count": null,
      "metadata": {
        "colab": {
          "base_uri": "https://localhost:8080/"
        },
        "id": "ZFYUZEls7lCl",
        "outputId": "c2cad31c-961a-4be7-80d9-bb62278f77bb"
      },
      "outputs": [
        {
          "output_type": "stream",
          "name": "stdout",
          "text": [
            "Collecting PyPDF2\n",
            "  Downloading pypdf2-3.0.1-py3-none-any.whl.metadata (6.8 kB)\n",
            "Downloading pypdf2-3.0.1-py3-none-any.whl (232 kB)\n",
            "\u001b[?25l   \u001b[90m━━━━━━━━━━━━━━━━━━━━━━━━━━━━━━━━━━━━━━━━\u001b[0m \u001b[32m0.0/232.6 kB\u001b[0m \u001b[31m?\u001b[0m eta \u001b[36m-:--:--\u001b[0m\r\u001b[2K   \u001b[91m━━━━━━━━━━━━\u001b[0m\u001b[90m╺\u001b[0m\u001b[90m━━━━━━━━━━━━━━━━━━━━━━━━━━━\u001b[0m \u001b[32m71.7/232.6 kB\u001b[0m \u001b[31m2.6 MB/s\u001b[0m eta \u001b[36m0:00:01\u001b[0m\r\u001b[2K   \u001b[90m━━━━━━━━━━━━━━━━━━━━━━━━━━━━━━━━━━━━━━━━\u001b[0m \u001b[32m232.6/232.6 kB\u001b[0m \u001b[31m3.5 MB/s\u001b[0m eta \u001b[36m0:00:00\u001b[0m\n",
            "\u001b[?25hInstalling collected packages: PyPDF2\n",
            "Successfully installed PyPDF2-3.0.1\n"
          ]
        }
      ],
      "source": [
        "# prompt: /content/제3권_전국 여객기종점통행량 조사.pdf 이걸로 아무 통계나 만들어줘\n",
        "\n",
        "!pip install PyPDF2\n",
        "\n",
        "import PyPDF2\n",
        "import re\n",
        "from collections import defaultdict\n",
        "\n",
        "# Open the PDF file\n",
        "pdf_file_path = '/content/제3권_전국 여객기종점통행량 조사.pdf'\n",
        "\n",
        "try:\n",
        "    with open(pdf_file_path, 'rb') as pdf_file:\n",
        "        pdf_reader = PyPDF2.PdfReader(pdf_file)\n",
        "        text = ''\n",
        "        for page in pdf_reader.pages:\n",
        "            text += page.extract_text()\n",
        "\n",
        "    # Example: Extract total passenger counts for each city\n",
        "    city_passenger_counts = defaultdict(int)\n",
        "    pattern = r\"([가-힣]+)\\s*(\\d+)\"  # Adjust the pattern based on the PDF structure\n",
        "    matches = re.findall(pattern, text)\n",
        "\n",
        "    for match in matches:\n",
        "      city, count_str = match\n",
        "      try:\n",
        "        count = int(count_str)\n",
        "        city_passenger_counts[city] += count\n",
        "      except ValueError:\n",
        "        print(f\"Skipping invalid count: {count_str} for city: {city}\")\n",
        "\n",
        "\n",
        "    # Print or further process the results\n",
        "    print(\"City Passenger Counts:\")\n",
        "    for city, count in city_passenger_counts.items():\n",
        "        print(f\"{city}: {count}\")\n",
        "\n",
        "\n",
        "except FileNotFoundError:\n",
        "    print(f\"Error: File not found at {pdf_file_path}\")\n",
        "except Exception as e:\n",
        "    print(f\"An error occurred: {e}\")\n"
      ]
    },
    {
      "cell_type": "code",
      "source": [],
      "metadata": {
        "id": "rZnGNuSO8D3-"
      },
      "execution_count": null,
      "outputs": []
    }
  ]
}